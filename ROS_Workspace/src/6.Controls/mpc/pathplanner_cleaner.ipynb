{
 "cells": [
  {
   "cell_type": "code",
   "execution_count": 11,
   "metadata": {},
   "outputs": [
    {
     "name": "stdout",
     "output_type": "stream",
     "text": [
      "(1725, 2) [[-4.48372    0.0433194]\n",
      " [-3.59311    0.0595045]\n",
      " [-2.25346    0.0508823]\n",
      " ...\n",
      " [13.1424     1.1379   ]\n",
      " [14.3648     0.43067  ]\n",
      " [15.5943     0.0662977]]\n",
      "(1631, 2) [[-4.48372    0.0433194]\n",
      " [-3.59311    0.0595045]\n",
      " [-2.25346    0.0508823]\n",
      " ...\n",
      " [13.1424     1.1379   ]\n",
      " [14.3648     0.43067  ]\n",
      " [15.5943     0.0662977]]\n"
     ]
    }
   ],
   "source": [
    "import numpy as np\n",
    "import pandas as pd\n",
    "\n",
    "reader_csv = pd.read_csv('data/pathplanner.csv').to_numpy()\n",
    "print(np.shape(reader_csv),reader_csv)\n",
    "_,idx=np.unique(reader_csv, axis=0,return_index=True)\n",
    "reader_csv = reader_csv[np.sort(idx)]\n",
    "print(np.shape(reader_csv),reader_csv)\n",
    "np.savetxt('data/thomaidio_midpoints.txt',reader_csv)\n",
    "np.savetxt('../../../../PathPlanning/Splines/test_tracks/thomaidio_midpoints.txt',reader_csv)"
   ]
  }
 ],
 "metadata": {
  "kernelspec": {
   "display_name": "Python 3",
   "language": "python",
   "name": "python3"
  },
  "language_info": {
   "codemirror_mode": {
    "name": "ipython",
    "version": 3
   },
   "file_extension": ".py",
   "mimetype": "text/x-python",
   "name": "python",
   "nbconvert_exporter": "python",
   "pygments_lexer": "ipython3",
   "version": "3.8.10"
  },
  "orig_nbformat": 4
 },
 "nbformat": 4,
 "nbformat_minor": 2
}
